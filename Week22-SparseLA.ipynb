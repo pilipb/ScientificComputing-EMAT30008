{
 "cells": [
  {
   "cell_type": "markdown",
   "id": "bf0160d5",
   "metadata": {
    "slideshow": {
     "slide_type": "slide"
    }
   },
   "source": [
    "# Scientific Computing\n",
    "## Week 22 - Sparse linear algebra\n",
    "## Matthew Hennessy"
   ]
  },
  {
   "cell_type": "markdown",
   "id": "01650d71",
   "metadata": {
    "slideshow": {
     "slide_type": "slide"
    }
   },
   "source": [
    "# Overview\n",
    "\n",
    "* Introduce the idea of sparse matrices \n",
    "* Showcase SciPy's `sparse` module for sparse linear algebra"
   ]
  },
  {
   "cell_type": "markdown",
   "id": "e488adcf",
   "metadata": {
    "slideshow": {
     "slide_type": "slide"
    }
   },
   "source": [
    "# Sparse matrices\n",
    "\n",
    "* A **sparse** matrix is a matrix that only has a few non-zero entries in each row\n",
    "* The identity matrix is a perfect example of a sparse matrix\n",
    "* A **dense** matrix is a matrix that has mostly non-zero entries"
   ]
  },
  {
   "cell_type": "markdown",
   "id": "10f58b91",
   "metadata": {
    "slideshow": {
     "slide_type": "slide"
    }
   },
   "source": [
    "* Sparse matrices commonly appear when solving PDEs numerically\n",
    "* The tridiagonal $\\mathbf{A}^{DD}$ matrix that appears when using the finite difference method is sparse \n",
    "\\begin{align*}\n",
    "\\mathbf{A}^{DD} = \n",
    "\\begin{pmatrix}\n",
    "-2 & 1 &  &  &  &  \\\\\n",
    "1 & -2 & 1 & & &  \\\\\n",
    " & 1 & -2 & 1 &  &  \\\\\n",
    " &  & \\ddots& \\ddots& \\ddots & \\\\\n",
    " &  & & 1 & -2 & 1 \\\\\n",
    " &  & &  & 1 & -2\n",
    "\\end{pmatrix}\n",
    "\\end{align*}"
   ]
  },
  {
   "cell_type": "markdown",
   "id": "34af1acf",
   "metadata": {
    "slideshow": {
     "slide_type": "slide"
    }
   },
   "source": [
    "# Memory considerations\n",
    "\n",
    "* Dense matrices are stored as two-dimensional arrays (such as NumPy arrays)\n",
    "* Every entry in the matrix is stored in memory\n",
    "* Sparse matrices can be stored using data types that reduce memory consumption\n",
    "* The idea is to only store the values and indices of non-zero entries in a sparse matrix"
   ]
  },
  {
   "cell_type": "markdown",
   "id": "cfbed00e",
   "metadata": {
    "slideshow": {
     "slide_type": "slide"
    }
   },
   "source": [
    "# Example\n",
    "\n",
    "Consider the diagonal matrix\n",
    "\\begin{align}\n",
    "A = \\begin{pmatrix} 1.0 & 0 & 0\\\\ 0 & 2.0 & 0 \\\\ 0 & 0 & 3.0 \\end{pmatrix}\n",
    "\\end{align}\n",
    "\n",
    "Treating this as a dense matrix requires storing 9 floats (= $9 \\times 8$ bytes = $72$ bytes)"
   ]
  },
  {
   "cell_type": "markdown",
   "id": "50e54bee",
   "metadata": {
    "slideshow": {
     "slide_type": "slide"
    }
   },
   "source": [
    "Treating this as a sparse matrix requires storing three arrays (values, row indices, column indices)\n",
    "```python\n",
    "values = [1.0, 2.0, 3.0]\n",
    "rows = [0, 1, 2]\n",
    "cols = [0, 1, 2]\n",
    "```\n",
    "\n",
    "This requires storing three floats and six integers: $3 \\times 8$ bytes + $6 \\times 4$ bytes = $48$ bytes)"
   ]
  },
  {
   "cell_type": "markdown",
   "id": "ec23f6d0",
   "metadata": {
    "slideshow": {
     "slide_type": "slide"
    }
   },
   "source": [
    "# Sparse storage formats\n",
    "\n",
    "* There are many different ways to store sparse matrices. \n",
    "* Coordinate (COO) format: This is similar to the example on the previous slides, where the values and the coordinates (rows, cols) are stored\n",
    "* Compressed Sparse Column (CSC) format: Similar to COO but duplicate entries in the column array are removed\n",
    "* [Wikipedia](https://en.wikipedia.org/wiki/Sparse_matrix) has a good summary of the different formats and theirs pros/cons"
   ]
  },
  {
   "cell_type": "markdown",
   "id": "5ec1d520",
   "metadata": {
    "slideshow": {
     "slide_type": "slide"
    }
   },
   "source": [
    "# Sparse matrices in SciPy\n",
    "\n",
    "* SciPy's `sparse` module contains functions for creating sparse matrices\n",
    "* `scipy.sparse.eye(N)` creates a sparse $N \\times N$ identity matrix\n",
    "* `scipy.sparse.diags` creates a sparse diagonal matrix\n",
    "* The sparse storage format can be specified using the `format` argument"
   ]
  },
  {
   "cell_type": "markdown",
   "id": "8350c1ab",
   "metadata": {
    "slideshow": {
     "slide_type": "slide"
    }
   },
   "source": [
    "# Example\n",
    "\n",
    "* Let's explore the memory savings of using sparse matrices for the identity matrix\n",
    "* We'll first create the matrix using NumPy and calculate how much memory it takes up\n",
    "* Then we'll repeat the process using SciPy's sparse module"
   ]
  },
  {
   "cell_type": "markdown",
   "id": "46f86152",
   "metadata": {
    "slideshow": {
     "slide_type": "slide"
    }
   },
   "source": [
    "Using NumPy:"
   ]
  },
  {
   "cell_type": "code",
   "execution_count": 28,
   "id": "0e44b25b",
   "metadata": {
    "slideshow": {
     "slide_type": "-"
    }
   },
   "outputs": [
    {
     "name": "stdout",
     "output_type": "stream",
     "text": [
      "200.0 MB required to store as a dense NumPy array\n"
     ]
    }
   ],
   "source": [
    "import numpy as np\n",
    "\n",
    "N = 5000\n",
    "I_dense = np.eye(N)\n",
    "size_in_bytes = I_dense.nbytes\n",
    "size_in_MB = size_in_bytes / 1e6\n",
    "print(size_in_MB, 'MB required to store as a dense NumPy array')"
   ]
  },
  {
   "cell_type": "markdown",
   "id": "1648f7bb",
   "metadata": {
    "slideshow": {
     "slide_type": "slide"
    }
   },
   "source": [
    "Using SciPy and storing in COO format"
   ]
  },
  {
   "cell_type": "code",
   "execution_count": 29,
   "id": "baa1aa2e",
   "metadata": {
    "slideshow": {
     "slide_type": "-"
    }
   },
   "outputs": [
    {
     "name": "stdout",
     "output_type": "stream",
     "text": [
      "0.08 MB required to store as a sparse COO array\n"
     ]
    }
   ],
   "source": [
    "import scipy.sparse as sp\n",
    "\n",
    "N = 5000\n",
    "I_sp = sp.eye(N, format = 'coo')\n",
    "size_in_bytes = I_sp.data.nbytes + I_sp.row.nbytes + I_sp.col.nbytes\n",
    "size_in_MB = size_in_bytes / 1e6\n",
    "print(size_in_MB, 'MB required to store as a sparse COO array')"
   ]
  },
  {
   "cell_type": "markdown",
   "id": "671a67df",
   "metadata": {
    "slideshow": {
     "slide_type": "slide"
    }
   },
   "source": [
    "# Speed\n",
    "\n",
    "* Aside from being memory efficient, sparse matrices can greatly accelerate matrix operations"
   ]
  },
  {
   "cell_type": "code",
   "execution_count": 26,
   "id": "1802e83a",
   "metadata": {
    "slideshow": {
     "slide_type": "fragment"
    }
   },
   "outputs": [
    {
     "name": "stdout",
     "output_type": "stream",
     "text": [
      "12.6 ms ± 432 µs per loop (mean ± std. dev. of 7 runs, 100 loops each)\n"
     ]
    }
   ],
   "source": [
    "b = np.random.random(N)\n",
    "\n",
    "# compute I * b where I is a dense identity matrix\n",
    "%timeit I_dense @ b"
   ]
  },
  {
   "cell_type": "code",
   "execution_count": 27,
   "id": "94758182",
   "metadata": {
    "slideshow": {
     "slide_type": "fragment"
    }
   },
   "outputs": [
    {
     "name": "stdout",
     "output_type": "stream",
     "text": [
      "14 µs ± 230 ns per loop (mean ± std. dev. of 7 runs, 100000 loops each)\n"
     ]
    }
   ],
   "source": [
    "# compute I * b where I is a sparse identity matrix\n",
    "%timeit I_sp @ b"
   ]
  },
  {
   "cell_type": "markdown",
   "id": "d7adb789",
   "metadata": {
    "slideshow": {
     "slide_type": "slide"
    }
   },
   "source": [
    "# Sparse linear algebra\n",
    "\n",
    "* SciPy can perform operations from linear algebra on sparse matrices\n",
    "* Need to use functions in the `scipy.sparse.linalg` module\n",
    "* `spsolve(A, b)` solves the linear system $Ax = b$ when $A$ is a sparse matrix\n",
    "* **Do not** use NumPy functions with sparse matrices"
   ]
  },
  {
   "cell_type": "markdown",
   "id": "4f7c0906",
   "metadata": {
    "slideshow": {
     "slide_type": "slide"
    }
   },
   "source": [
    "# Example\n",
    "\n",
    "Solving $Ax = b$ where $A$ is a sparse diagonal matrix with random entries"
   ]
  },
  {
   "cell_type": "markdown",
   "id": "0dddeeb9",
   "metadata": {
    "slideshow": {
     "slide_type": "slide"
    }
   },
   "source": [
    "First, we'll do this using NumPy"
   ]
  },
  {
   "cell_type": "code",
   "execution_count": 32,
   "id": "f06966ba",
   "metadata": {
    "slideshow": {
     "slide_type": "fragment"
    }
   },
   "outputs": [
    {
     "name": "stdout",
     "output_type": "stream",
     "text": [
      "753 ms ± 42.5 ms per loop (mean ± std. dev. of 7 runs, 1 loop each)\n"
     ]
    }
   ],
   "source": [
    "import numpy as np\n",
    "\n",
    "N = 5000\n",
    "d = np.random.random(N)\n",
    "b = np.random.random(N)\n",
    "\n",
    "A_dense = np.diag(d)\n",
    "\n",
    "%timeit np.linalg.solve(A_dense, b)"
   ]
  },
  {
   "cell_type": "markdown",
   "id": "a8eb1542",
   "metadata": {
    "slideshow": {
     "slide_type": "slide"
    }
   },
   "source": [
    "Now, using SciPy"
   ]
  },
  {
   "cell_type": "code",
   "execution_count": 34,
   "id": "e71e31a5",
   "metadata": {
    "slideshow": {
     "slide_type": "fragment"
    }
   },
   "outputs": [
    {
     "name": "stdout",
     "output_type": "stream",
     "text": [
      "1.77 ms ± 51.4 µs per loop (mean ± std. dev. of 7 runs, 1000 loops each)\n"
     ]
    }
   ],
   "source": [
    "import scipy.sparse.linalg as sla\n",
    "\n",
    "A_sparse = sp.diags(d, format = 'csc')\n",
    "\n",
    "%timeit sla.spsolve(A_sparse, b)"
   ]
  },
  {
   "cell_type": "markdown",
   "id": "8433c979",
   "metadata": {
    "slideshow": {
     "slide_type": "fragment"
    }
   },
   "source": [
    "Using sparse matrices is more than 400 times faster!"
   ]
  },
  {
   "cell_type": "markdown",
   "id": "b1bd5c44",
   "metadata": {
    "slideshow": {
     "slide_type": "slide"
    }
   },
   "source": [
    "# Summary\n",
    "\n",
    "* Sparse matrices contain only a few non-zero entries per row\n",
    "* Sparse matrices can be stored efficiently, reducing memory usage and speeding up operations\n",
    "* SciPy contains functions for creating sparse matrices and operating on them"
   ]
  }
 ],
 "metadata": {
  "celltoolbar": "Slideshow",
  "kernelspec": {
   "display_name": "Python 3",
   "language": "python",
   "name": "python3"
  },
  "language_info": {
   "codemirror_mode": {
    "name": "ipython",
    "version": 3
   },
   "file_extension": ".py",
   "mimetype": "text/x-python",
   "name": "python",
   "nbconvert_exporter": "python",
   "pygments_lexer": "ipython3",
   "version": "3.8.8"
  }
 },
 "nbformat": 4,
 "nbformat_minor": 5
}
