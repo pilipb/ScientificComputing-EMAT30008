{
 "cells": [
  {
   "cell_type": "code",
   "execution_count": 1,
   "metadata": {},
   "outputs": [],
   "source": [
    "# solving non linear poisson equation using bvp's\n",
    "\n",
    "import numpy as np\n",
    "import matplotlib.pyplot as plt\n",
    "from scipy.optimize import root\n",
    "\n",
    "# define the equation\n",
    "def q(x):\n",
    "    return x\n",
    "\n",
    "# define the boundary conditions\n",
    "alpha = 0\n",
    "beta = 0\n",
    "\n",
    "# define the domain\n",
    "a = 0\n",
    "b = 1\n",
    "\n",
    "# define the number of grid points\n",
    "N = 10"
   ]
  },
  {
   "cell_type": "code",
   "execution_count": 3,
   "metadata": {},
   "outputs": [
    {
     "ename": "TypeError",
     "evalue": "'numpy.ndarray' object is not callable",
     "output_type": "error",
     "traceback": [
      "\u001b[0;31m---------------------------------------------------------------------------\u001b[0m",
      "\u001b[0;31mTypeError\u001b[0m                                 Traceback (most recent call last)",
      "Cell \u001b[0;32mIn[3], line 16\u001b[0m\n\u001b[1;32m     13\u001b[0m \u001b[39m# initial guess\u001b[39;00m\n\u001b[1;32m     14\u001b[0m u \u001b[39m=\u001b[39m np\u001b[39m.\u001b[39mzeros(N\u001b[39m+\u001b[39m\u001b[39m1\u001b[39m)\n\u001b[0;32m---> 16\u001b[0m sol \u001b[39m=\u001b[39m root(f, u, args\u001b[39m=\u001b[39;49m(dx,N, q, alpha, beta))\n",
      "File \u001b[0;32m~/opt/miniconda3/envs/scicomp/lib/python3.10/site-packages/scipy/optimize/_root.py:235\u001b[0m, in \u001b[0;36mroot\u001b[0;34m(fun, x0, args, method, jac, tol, callback, options)\u001b[0m\n\u001b[1;32m    232\u001b[0m         options\u001b[39m.\u001b[39msetdefault(\u001b[39m'\u001b[39m\u001b[39mfatol\u001b[39m\u001b[39m'\u001b[39m, np\u001b[39m.\u001b[39minf)\n\u001b[1;32m    234\u001b[0m \u001b[39mif\u001b[39;00m meth \u001b[39m==\u001b[39m \u001b[39m'\u001b[39m\u001b[39mhybr\u001b[39m\u001b[39m'\u001b[39m:\n\u001b[0;32m--> 235\u001b[0m     sol \u001b[39m=\u001b[39m _root_hybr(fun, x0, args\u001b[39m=\u001b[39;49margs, jac\u001b[39m=\u001b[39;49mjac, \u001b[39m*\u001b[39;49m\u001b[39m*\u001b[39;49moptions)\n\u001b[1;32m    236\u001b[0m \u001b[39melif\u001b[39;00m meth \u001b[39m==\u001b[39m \u001b[39m'\u001b[39m\u001b[39mlm\u001b[39m\u001b[39m'\u001b[39m:\n\u001b[1;32m    237\u001b[0m     sol \u001b[39m=\u001b[39m _root_leastsq(fun, x0, args\u001b[39m=\u001b[39margs, jac\u001b[39m=\u001b[39mjac, \u001b[39m*\u001b[39m\u001b[39m*\u001b[39moptions)\n",
      "File \u001b[0;32m~/opt/miniconda3/envs/scicomp/lib/python3.10/site-packages/scipy/optimize/_minpack_py.py:229\u001b[0m, in \u001b[0;36m_root_hybr\u001b[0;34m(func, x0, args, jac, col_deriv, xtol, maxfev, band, eps, factor, diag, **unknown_options)\u001b[0m\n\u001b[1;32m    227\u001b[0m \u001b[39mif\u001b[39;00m \u001b[39mnot\u001b[39;00m \u001b[39misinstance\u001b[39m(args, \u001b[39mtuple\u001b[39m):\n\u001b[1;32m    228\u001b[0m     args \u001b[39m=\u001b[39m (args,)\n\u001b[0;32m--> 229\u001b[0m shape, dtype \u001b[39m=\u001b[39m _check_func(\u001b[39m'\u001b[39;49m\u001b[39mfsolve\u001b[39;49m\u001b[39m'\u001b[39;49m, \u001b[39m'\u001b[39;49m\u001b[39mfunc\u001b[39;49m\u001b[39m'\u001b[39;49m, func, x0, args, n, (n,))\n\u001b[1;32m    230\u001b[0m \u001b[39mif\u001b[39;00m epsfcn \u001b[39mis\u001b[39;00m \u001b[39mNone\u001b[39;00m:\n\u001b[1;32m    231\u001b[0m     epsfcn \u001b[39m=\u001b[39m finfo(dtype)\u001b[39m.\u001b[39meps\n",
      "File \u001b[0;32m~/opt/miniconda3/envs/scicomp/lib/python3.10/site-packages/scipy/optimize/_minpack_py.py:26\u001b[0m, in \u001b[0;36m_check_func\u001b[0;34m(checker, argname, thefunc, x0, args, numinputs, output_shape)\u001b[0m\n\u001b[1;32m     24\u001b[0m \u001b[39mdef\u001b[39;00m \u001b[39m_check_func\u001b[39m(checker, argname, thefunc, x0, args, numinputs,\n\u001b[1;32m     25\u001b[0m                 output_shape\u001b[39m=\u001b[39m\u001b[39mNone\u001b[39;00m):\n\u001b[0;32m---> 26\u001b[0m     res \u001b[39m=\u001b[39m atleast_1d(thefunc(\u001b[39m*\u001b[39;49m((x0[:numinputs],) \u001b[39m+\u001b[39;49m args)))\n\u001b[1;32m     27\u001b[0m     \u001b[39mif\u001b[39;00m (output_shape \u001b[39mis\u001b[39;00m \u001b[39mnot\u001b[39;00m \u001b[39mNone\u001b[39;00m) \u001b[39mand\u001b[39;00m (shape(res) \u001b[39m!=\u001b[39m output_shape):\n\u001b[1;32m     28\u001b[0m         \u001b[39mif\u001b[39;00m (output_shape[\u001b[39m0\u001b[39m] \u001b[39m!=\u001b[39m \u001b[39m1\u001b[39m):\n",
      "Cell \u001b[0;32mIn[3], line 6\u001b[0m, in \u001b[0;36mf\u001b[0;34m(u, dx, N, q, alpha, beta)\u001b[0m\n\u001b[1;32m      5\u001b[0m \u001b[39mdef\u001b[39;00m \u001b[39mf\u001b[39m(u, dx,N, q, alpha, beta):\n\u001b[0;32m----> 6\u001b[0m     f_1 \u001b[39m=\u001b[39m (u(xi[\u001b[39m2\u001b[39;49m]) \u001b[39m-\u001b[39m \u001b[39m2\u001b[39m\u001b[39m*\u001b[39mu(xi[\u001b[39m1\u001b[39m]) \u001b[39m+\u001b[39m alpha)\u001b[39m/\u001b[39mdx\u001b[39m*\u001b[39m\u001b[39m*\u001b[39m\u001b[39m2\u001b[39m \u001b[39m+\u001b[39m q(xi[\u001b[39m1\u001b[39m])\n\u001b[1;32m      7\u001b[0m     \u001b[39mfor\u001b[39;00m i \u001b[39min\u001b[39;00m \u001b[39mrange\u001b[39m(\u001b[39m2\u001b[39m, N\u001b[39m-\u001b[39m\u001b[39m1\u001b[39m):\n\u001b[1;32m      8\u001b[0m         f_i[i] \u001b[39m=\u001b[39m (u(xi[i\u001b[39m+\u001b[39m\u001b[39m1\u001b[39m]) \u001b[39m-\u001b[39m \u001b[39m2\u001b[39m\u001b[39m*\u001b[39mu(xi[i]) \u001b[39m+\u001b[39m u(xi[i\u001b[39m-\u001b[39m\u001b[39m1\u001b[39m]))\u001b[39m/\u001b[39mdx\u001b[39m*\u001b[39m\u001b[39m*\u001b[39m\u001b[39m2\u001b[39m \u001b[39m+\u001b[39m q(xi[i])\n",
      "\u001b[0;31mTypeError\u001b[0m: 'numpy.ndarray' object is not callable"
     ]
    }
   ],
   "source": [
    "# discretise the domain\n",
    "xi = np.linspace(a, b, N+1)\n",
    "\n",
    "# solve using scipy root - f(u) = 0\n",
    "def f(u, dx,N, q, alpha, beta):\n",
    "    f_1 = (u(xi[2]) - 2*u(xi[1]) + alpha)/dx**2 + q(xi[1])\n",
    "    for i in range(2, N-1):\n",
    "        f_i[i] = (u(xi[i+1]) - 2*u(xi[i]) + u(xi[i-1]))/dx**2 + q(xi[i])\n",
    "    f_N1 = (beta - 2*u(xi[N-1]) + u(xi[N-2]))/dx**2 + q(xi[N-1])\n",
    "    return np.concatenate(([f_1], f_i, [f_N1]))\n",
    "\n",
    "dx = (b - a)/N\n",
    "# initial guess\n",
    "u = np.zeros(N+1)\n",
    "\n",
    "sol = root(f, u, args=(dx,N, q, alpha, beta))\n",
    "\n"
   ]
  }
 ],
 "metadata": {
  "kernelspec": {
   "display_name": "scicomp",
   "language": "python",
   "name": "python3"
  },
  "language_info": {
   "codemirror_mode": {
    "name": "ipython",
    "version": 3
   },
   "file_extension": ".py",
   "mimetype": "text/x-python",
   "name": "python",
   "nbconvert_exporter": "python",
   "pygments_lexer": "ipython3",
   "version": "3.10.9"
  },
  "orig_nbformat": 4
 },
 "nbformat": 4,
 "nbformat_minor": 2
}
