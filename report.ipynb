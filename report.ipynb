{
 "cells": [
  {
   "attachments": {},
   "cell_type": "markdown",
   "metadata": {},
   "source": [
    "# Scientific Computing Report\n",
    "\n",
    "This report will outline the code produced for this module as a library able to compute limit cycles of ODE's and PDE's as well as confirming the steady-states of diffusive PDE's"
   ]
  },
  {
   "attachments": {},
   "cell_type": "markdown",
   "metadata": {},
   "source": [
    "# A brief summary of your software (30% of the marks)\n",
    "\n",
    "Structure of the modules,\n",
    "How inputs are taken,\n",
    "Checks,\n",
    "Outputs\n",
    "\n",
    "Start with the ODE solvers:\n",
    "\n",
    "1. Present the difference between the solvers for solving a few steps of ODE of n dim\n",
    "2. Isolate a periodic solution using shooting and know parameters\n",
    "3. Trace out the parameter-period curve using both natural and pseudo-arclength continuation methods.\n"
   ]
  },
  {
   "cell_type": "code",
   "execution_count": null,
   "metadata": {},
   "outputs": [],
   "source": [
    "\n",
    "\n"
   ]
  },
  {
   "attachments": {},
   "cell_type": "markdown",
   "metadata": {},
   "source": [
    "PDE solvers: \n",
    "\n",
    "Solver profiling and showing modularity\n",
    "1. Explicit methods\n",
    "2. implicit methods"
   ]
  },
  {
   "attachments": {},
   "cell_type": "markdown",
   "metadata": {},
   "source": [
    "\n",
    "# A description of the key software design decisions made (40% of the marks)\n",
    "\n",
    "A run through of the code"
   ]
  },
  {
   "attachments": {},
   "cell_type": "markdown",
   "metadata": {},
   "source": [
    "# A reflective learning log (30% of the marks)"
   ]
  },
  {
   "cell_type": "code",
   "execution_count": null,
   "metadata": {},
   "outputs": [],
   "source": []
  }
 ],
 "metadata": {
  "language_info": {
   "name": "python"
  },
  "orig_nbformat": 4
 },
 "nbformat": 4,
 "nbformat_minor": 2
}
